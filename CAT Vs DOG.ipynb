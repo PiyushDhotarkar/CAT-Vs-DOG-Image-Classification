{
 "cells": [
  {
   "cell_type": "markdown",
   "metadata": {},
   "source": [
    "## Importing Necessary Libraries"
   ]
  },
  {
   "cell_type": "code",
   "execution_count": null,
   "metadata": {},
   "outputs": [],
   "source": [
    "import pandas\n",
    "import numpy\n",
    "import keras\n",
    "import matplotlib.pylab as plt\n",
    "from keras.preprocessing.image import ImageDataGenerator, array_to_img, img_to_array, load_img\n",
    "from keras.models import Sequential\n",
    "from keras.layers import Conv2D, MaxPooling2D\n",
    "from keras.layers import Activation, Dropout, Flatten, Dense\n",
    "from keras import backend as K\n",
    "import os"
   ]
  },
  {
   "cell_type": "markdown",
   "metadata": {},
   "source": [
    "### Setting up the dimensions of the image for input and for output"
   ]
  },
  {
   "cell_type": "code",
   "execution_count": 23,
   "metadata": {},
   "outputs": [],
   "source": [
    "## Dimensions of the image\n",
    "image_width, image_height = 150, 150"
   ]
  },
  {
   "cell_type": "markdown",
   "metadata": {},
   "source": [
    "### Creating the Directories from where we can fetch the images"
   ]
  },
  {
   "cell_type": "code",
   "execution_count": 28,
   "metadata": {},
   "outputs": [],
   "source": [
    "## Creating a train and a validation directory and setting some params\n",
    "train_data_dir = r\"C:\\Users\\PIYUSH\\Documents\\AAIC MATERIALS\\15) CNN(MNIST)\\data\\train\"\n",
    "validation_data_dir = r\"C:\\Users\\PIYUSH\\Documents\\AAIC MATERIALS\\15) CNN(MNIST)\\data\\validation\"\n",
    "train_samples = 2000\n",
    "validation_samples = 800\n",
    "epochs = 30\n",
    "batch_size = 16"
   ]
  },
  {
   "cell_type": "markdown",
   "metadata": {},
   "source": [
    "### Setting up the input shape for the model"
   ]
  },
  {
   "cell_type": "code",
   "execution_count": 29,
   "metadata": {},
   "outputs": [],
   "source": [
    "## Setting up the input_shape of the images\n",
    "if K.image_data_format() == 'channels_first':\n",
    "    input_shape = (3, image_width, image_height)\n",
    "else:\n",
    "    input_shape = (image_width, image_height, 3)"
   ]
  },
  {
   "cell_type": "markdown",
   "metadata": {},
   "source": [
    "### Defining the model with Convolutional layer, maxpool layer, activation layer and dropout layer"
   ]
  },
  {
   "cell_type": "code",
   "execution_count": 31,
   "metadata": {},
   "outputs": [],
   "source": [
    "## Defining the model\n",
    "model = Sequential()\n",
    "model.add(Conv2D(32, (3, 3), input_shape=input_shape))\n",
    "model.add(Activation('relu'))\n",
    "model.add(MaxPooling2D(pool_size=(2, 2)))\n",
    "\n",
    "model.add(Conv2D(32, (3, 3), input_shape=input_shape))\n",
    "model.add(Activation('relu'))\n",
    "model.add(MaxPooling2D(pool_size=(2, 2)))\n",
    "\n",
    "model.add(Conv2D(32, (3, 3), input_shape=input_shape))\n",
    "model.add(Activation('relu'))\n",
    "model.add(MaxPooling2D(pool_size=(2, 2)))\n",
    "\n",
    "model.add(Flatten())\n",
    "model.add(Dense(64))\n",
    "model.add(Activation('relu'))\n",
    "model.add(Dropout(0.5))\n",
    "model.add(Dense(1))\n",
    "model.add(Activation('sigmoid'))\n",
    "\n",
    "model.compile(loss='binary_crossentropy',\n",
    "             optimizer='rmsprop',\n",
    "             metrics=['accuracy'])"
   ]
  },
  {
   "cell_type": "markdown",
   "metadata": {},
   "source": [
    "### Defining the Augmented Configuration "
   ]
  },
  {
   "cell_type": "code",
   "execution_count": 33,
   "metadata": {},
   "outputs": [],
   "source": [
    "## Augmented configuration for training data\n",
    "train_datagen = ImageDataGenerator(\n",
    "     rescale=1. / 255,\n",
    "     shear_range=0.2,\n",
    "     zoom_range=0.2,\n",
    "     horizontal_flip=True)\n",
    "\n",
    "## Augmented configuration for testing/validation data\n",
    "test_datagen = ImageDataGenerator(rescale=1. / 255)"
   ]
  },
  {
   "cell_type": "markdown",
   "metadata": {},
   "source": [
    "### Defining the Augmented Configuration for Train_Data"
   ]
  },
  {
   "cell_type": "code",
   "execution_count": 35,
   "metadata": {},
   "outputs": [
    {
     "name": "stdout",
     "output_type": "stream",
     "text": [
      "Found 2000 images belonging to 2 classes.\n"
     ]
    }
   ],
   "source": [
    "## Passing the training_data in the train_datagen configuration\n",
    "train_generator = train_datagen.flow_from_directory(\n",
    "         train_data_dir,\n",
    "         target_size=(image_width, image_height),\n",
    "         batch_size = batch_size,\n",
    "         class_mode = 'binary')"
   ]
  },
  {
   "cell_type": "markdown",
   "metadata": {},
   "source": [
    "### Defining the Augmented Configuration for Test_Data"
   ]
  },
  {
   "cell_type": "code",
   "execution_count": 36,
   "metadata": {},
   "outputs": [
    {
     "name": "stdout",
     "output_type": "stream",
     "text": [
      "Found 800 images belonging to 2 classes.\n"
     ]
    }
   ],
   "source": [
    "## Passing the test/validation data in test_datagen configuration\n",
    "validation_generator = test_datagen.flow_from_directory(\n",
    "         validation_data_dir,\n",
    "         target_size = (image_width, image_height),\n",
    "         batch_size = batch_size,\n",
    "         class_mode = 'binary')"
   ]
  },
  {
   "cell_type": "markdown",
   "metadata": {},
   "source": [
    "### Running the Model"
   ]
  },
  {
   "cell_type": "code",
   "execution_count": 37,
   "metadata": {},
   "outputs": [
    {
     "name": "stdout",
     "output_type": "stream",
     "text": [
      "Epoch 1/30\n",
      "125/125 [==============================] - 114s 916ms/step - loss: 0.7160 - acc: 0.5350 - val_loss: 0.6829 - val_acc: 0.5713\n",
      "Epoch 2/30\n",
      "125/125 [==============================] - 47s 374ms/step - loss: 0.6662 - acc: 0.5995 - val_loss: 0.6245 - val_acc: 0.6500\n",
      "Epoch 3/30\n",
      "125/125 [==============================] - 63s 504ms/step - loss: 0.6416 - acc: 0.6475 - val_loss: 0.6293 - val_acc: 0.5962\n",
      "Epoch 4/30\n",
      "125/125 [==============================] - 69s 549ms/step - loss: 0.6116 - acc: 0.6585 - val_loss: 0.6268 - val_acc: 0.6062\n",
      "Epoch 5/30\n",
      "125/125 [==============================] - 48s 386ms/step - loss: 0.6101 - acc: 0.6930 - val_loss: 0.5840 - val_acc: 0.6800\n",
      "Epoch 6/30\n",
      "125/125 [==============================] - 46s 369ms/step - loss: 0.5808 - acc: 0.7100 - val_loss: 0.6033 - val_acc: 0.6288\n",
      "Epoch 7/30\n",
      "125/125 [==============================] - 46s 372ms/step - loss: 0.5611 - acc: 0.7175 - val_loss: 0.5497 - val_acc: 0.6937\n",
      "Epoch 8/30\n",
      "125/125 [==============================] - 48s 387ms/step - loss: 0.5509 - acc: 0.7260 - val_loss: 0.5962 - val_acc: 0.7025\n",
      "Epoch 9/30\n",
      "125/125 [==============================] - 46s 371ms/step - loss: 0.5353 - acc: 0.7335 - val_loss: 0.5407 - val_acc: 0.7488\n",
      "Epoch 10/30\n",
      "125/125 [==============================] - 47s 375ms/step - loss: 0.5216 - acc: 0.7450 - val_loss: 0.5399 - val_acc: 0.7475\n",
      "Epoch 11/30\n",
      "125/125 [==============================] - 47s 375ms/step - loss: 0.5092 - acc: 0.7475 - val_loss: 0.5144 - val_acc: 0.7462\n",
      "Epoch 12/30\n",
      "125/125 [==============================] - 46s 370ms/step - loss: 0.5079 - acc: 0.7565 - val_loss: 0.5323 - val_acc: 0.7438\n",
      "Epoch 13/30\n",
      "125/125 [==============================] - 46s 370ms/step - loss: 0.4758 - acc: 0.7855 - val_loss: 0.5447 - val_acc: 0.7562\n",
      "Epoch 14/30\n",
      "125/125 [==============================] - 47s 373ms/step - loss: 0.4856 - acc: 0.7675 - val_loss: 0.5094 - val_acc: 0.7750\n",
      "Epoch 15/30\n",
      "125/125 [==============================] - 46s 371ms/step - loss: 0.4816 - acc: 0.7755 - val_loss: 0.5861 - val_acc: 0.7575\n",
      "Epoch 16/30\n",
      "125/125 [==============================] - 47s 373ms/step - loss: 0.4706 - acc: 0.7805 - val_loss: 0.5143 - val_acc: 0.7625\n",
      "Epoch 17/30\n",
      "125/125 [==============================] - 46s 370ms/step - loss: 0.4508 - acc: 0.7835 - val_loss: 0.4766 - val_acc: 0.7712\n",
      "Epoch 18/30\n",
      "125/125 [==============================] - 46s 372ms/step - loss: 0.4456 - acc: 0.8055 - val_loss: 0.5747 - val_acc: 0.7312\n",
      "Epoch 19/30\n",
      "125/125 [==============================] - 46s 370ms/step - loss: 0.4607 - acc: 0.7930 - val_loss: 0.5408 - val_acc: 0.7650\n",
      "Epoch 20/30\n",
      "125/125 [==============================] - 47s 374ms/step - loss: 0.4388 - acc: 0.8055 - val_loss: 0.5273 - val_acc: 0.7812\n",
      "Epoch 21/30\n",
      "125/125 [==============================] - 47s 373ms/step - loss: 0.4290 - acc: 0.8170 - val_loss: 0.5546 - val_acc: 0.7837\n",
      "Epoch 22/30\n",
      "125/125 [==============================] - 46s 371ms/step - loss: 0.4313 - acc: 0.8050 - val_loss: 0.5551 - val_acc: 0.7538\n",
      "Epoch 23/30\n",
      "125/125 [==============================] - 47s 379ms/step - loss: 0.4335 - acc: 0.8090 - val_loss: 0.4927 - val_acc: 0.7800\n",
      "Epoch 24/30\n",
      "125/125 [==============================] - 46s 371ms/step - loss: 0.4189 - acc: 0.8075 - val_loss: 0.5318 - val_acc: 0.7688\n",
      "Epoch 25/30\n",
      "125/125 [==============================] - 47s 374ms/step - loss: 0.4048 - acc: 0.8260 - val_loss: 0.5315 - val_acc: 0.7725\n",
      "Epoch 26/30\n",
      "125/125 [==============================] - 47s 374ms/step - loss: 0.4358 - acc: 0.8135 - val_loss: 0.5387 - val_acc: 0.7800\n",
      "Epoch 27/30\n",
      "125/125 [==============================] - 46s 370ms/step - loss: 0.4160 - acc: 0.8145 - val_loss: 0.7647 - val_acc: 0.7725\n",
      "Epoch 28/30\n",
      "125/125 [==============================] - 47s 373ms/step - loss: 0.4162 - acc: 0.8125 - val_loss: 0.5420 - val_acc: 0.7650\n",
      "Epoch 29/30\n",
      "125/125 [==============================] - 46s 370ms/step - loss: 0.4104 - acc: 0.8220 - val_loss: 0.5791 - val_acc: 0.7612\n",
      "Epoch 30/30\n",
      "125/125 [==============================] - 48s 382ms/step - loss: 0.4102 - acc: 0.8370 - val_loss: 0.5585 - val_acc: 0.7837\n"
     ]
    },
    {
     "data": {
      "text/plain": [
       "<keras.callbacks.History at 0x24cda45a198>"
      ]
     },
     "execution_count": 37,
     "metadata": {},
     "output_type": "execute_result"
    }
   ],
   "source": [
    "## Running the model\n",
    "model.fit_generator(\n",
    "        train_generator,\n",
    "        steps_per_epoch=train_samples // batch_size,\n",
    "        epochs = epochs,\n",
    "        validation_data = validation_generator,\n",
    "        validation_steps = validation_samples // batch_size)"
   ]
  },
  {
   "cell_type": "markdown",
   "metadata": {},
   "source": [
    "#### Observation: -\n",
    "\n",
    "As we can see from the above description and by looking at the training loss/acuracy Vs testing loss/ accuracy, after 15th epoch the difference between both the accuracies are getting increased. This implies that the model might have started overfitting."
   ]
  },
  {
   "cell_type": "code",
   "execution_count": 38,
   "metadata": {},
   "outputs": [],
   "source": [
    "## Saving the model weights\n",
    "model.save_weights('first_try.h5')"
   ]
  },
  {
   "cell_type": "code",
   "execution_count": null,
   "metadata": {},
   "outputs": [],
   "source": []
  }
 ],
 "metadata": {
  "kernelspec": {
   "display_name": "Python 3",
   "language": "python",
   "name": "python3"
  },
  "language_info": {
   "codemirror_mode": {
    "name": "ipython",
    "version": 3
   },
   "file_extension": ".py",
   "mimetype": "text/x-python",
   "name": "python",
   "nbconvert_exporter": "python",
   "pygments_lexer": "ipython3",
   "version": "3.7.3"
  }
 },
 "nbformat": 4,
 "nbformat_minor": 2
}
